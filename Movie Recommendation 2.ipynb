{
 "cells": [
  {
   "cell_type": "code",
   "execution_count": null,
   "id": "d1acae2a-3a45-4b8e-95c4-0b69fe3856da",
   "metadata": {},
   "outputs": [],
   "source": [
    "import numpy as np\n",
    "import pandas as pd\n",
    "import h5py"
   ]
  },
  {
   "cell_type": "code",
   "execution_count": null,
   "id": "e988a64e-2bd0-4f53-b38f-463b517707fc",
   "metadata": {},
   "outputs": [],
   "source": [
    "def read_hdf5_file(file_path,dataset_name='similarity_matrix3'):\n",
    "    with h5py.File(file_path,'r')as f:\n",
    "        data=f[dataset_name][:]\n",
    "    return data\n",
    "file_path='similarity_matrix3.h5'\n",
    "similarity_matrix=read_hdf5_file(file_path)\n",
    "similarity_matrix=pd.DataFrame(similarity_matrix)\n",
    "similarity_matrix.shape"
   ]
  },
  {
   "cell_type": "code",
   "execution_count": null,
   "id": "945e0e88-8bde-46be-a3dc-774e24231091",
   "metadata": {},
   "outputs": [],
   "source": [
    "similarity_matrix.head()"
   ]
  },
  {
   "cell_type": "code",
   "execution_count": null,
   "id": "53a516a4-e745-4d63-a3f0-8e5e11f8c358",
   "metadata": {},
   "outputs": [],
   "source": [
    "def evaluate(row):\n",
    "    top_indices = row.nlargest(21).index \n",
    "    result = pd.Series(np.nan, index=row.index)  \n",
    "    result[top_indices] = row[top_indices]  \n",
    "    return result"
   ]
  },
  {
   "cell_type": "code",
   "execution_count": null,
   "id": "46d8a30a-28d6-4d1a-b180-41bea91cead7",
   "metadata": {},
   "outputs": [],
   "source": [
    "def compute(similarity_matrix, batch_size=1000, output_file='similarity_preprocess5.h5'):\n",
    "    num_samples = similarity_matrix.shape[0]\n",
    "    \n",
    "    with h5py.File(output_file, 'w') as f:\n",
    "         dset = f.create_dataset(\n",
    "            \"similarity_preprocess5\",\n",
    "            shape=(num_samples, similarity_matrix.shape[1]),\n",
    "            dtype=np.float32\n",
    "        )\n",
    "\n",
    "        for i in range(0, num_samples, batch_size):\n",
    "            batch = similarity_matrix.iloc[i:i+batch_size]\n",
    "            batch_result = batch.apply(lambda x: evaluate(x), axis=1)\n",
    "            dset[i:i+batch_size, :] = batch_result.values\n",
    "            print(f\"Processed batch {i} to {i+batch_size}\")\n",
    "\n",
    "    print(f\"Data successfully saved to {output_file}\")\n",
    "compute(similarity_matrix, batch_size=1000, output_file='similarity_preprocess5.h5')\n"
   ]
  },
  {
   "cell_type": "code",
   "execution_count": null,
   "id": "3a2068f8-564c-472e-ae23-be5a69db7099",
   "metadata": {},
   "outputs": [],
   "source": [
    "def read_and_replace_and_save(file_path, output_file_path, dataset_name='similarity_preprocess5', chunk_size=1000):\n",
    "    with h5py.File(file_path, 'r') as f_in, h5py.File(output_file_path, 'w') as f_out:\n",
    "        dataset = f_in[dataset_name]\n",
    "        n_rows = dataset.shape[0]\n",
    "        for start in range(0, n_rows, chunk_size):\n",
    "            end = min(start + chunk_size, n_rows)\n",
    "            chunk = dataset[start:end, :]  \n",
    "            nan_mask = np.isnan(chunk)\n",
    "            chunk = np.where(nan_mask, chunk, np.arange(chunk.shape[1]))  \n",
    "            chunk_df = pd.DataFrame(chunk)\n",
    "            print(chunk_df.head()) \n",
    "            if start == 0:  \n",
    "                f_out.create_dataset(dataset_name, data=chunk, maxshape=(None, chunk.shape[1]), chunks=True)\n",
    "            else:\n",
    "                f_out[dataset_name].resize((f_out[dataset_name].shape[0] + chunk.shape[0]), axis=0)\n",
    "                f_out[dataset_name][-chunk.shape[0]:] = chunk"
   ]
  },
  {
   "cell_type": "code",
   "execution_count": null,
   "id": "3b62bcf8-7583-4684-9e5a-da3dc71e67f0",
   "metadata": {},
   "outputs": [],
   "source": [
    "file_path = 'similarity_preprocess5.h5'\n",
    "output_file_path = 'similarity_preprocess6.h5'\n",
    "read_and_replace_and_save(file_path, output_file_path)\n"
   ]
  },
  {
   "cell_type": "code",
   "execution_count": null,
   "id": "5e24331b-97e2-47e6-9c41-264159f09899",
   "metadata": {},
   "outputs": [],
   "source": [
    "def shift_nan_right_in_row(df):\n",
    "    return df.apply(lambda row: pd.Series(sorted(row, key=lambda x: (pd.isna(x), x))), axis=1)\n",
    "input_file = 'similarity_preprocess6.h5'\n",
    "output_file = 'similarity_preprocess8.h5'\n",
    "chunk_size = 10000 \n",
    "with pd.HDFStore(output_file, mode='w') as store:\n",
    "    for chunk in pd.read_hdf(input_file, chunksize=chunk_size):\n",
    "        chunk_shifted = shift_nan_right_in_row(chunk)\n",
    "        \n",
    "        store.append('data', chunk_shifted, index=False)\n",
    "\n",
    "print(f\"Processing complete. The output is saved to '{output_file}'.\")\n",
    "\n"
   ]
  },
  {
   "cell_type": "code",
   "execution_count": null,
   "id": "ce366975-9615-4342-90a2-f8dfb00da460",
   "metadata": {},
   "outputs": [],
   "source": [
    "def drop_columns_with_nan_and_save_to_csv(input_file, output_csv_file):\n",
    "    with h5py.File(input_file, 'r') as hf_in:\n",
    "        cleaned_data_list = []\n",
    "        \n",
    "        for batch_name in hf_in.keys():\n",
    "            batch_data = hf_in[batch_name][:]\n",
    "            df = pd.DataFrame(batch_data)\n",
    "            df_cleaned = df.dropna(axis=1, how='any')\n",
    "            cleaned_data_list.append(df_cleaned)\n",
    "        \n",
    "        full_cleaned_data = pd.concat(cleaned_data_list, ignore_index=True)\n",
    "        \n",
    "        full_cleaned_data.to_csv(output_csv_file, index=False)\n",
    "input_file = 'similarity_preprocess8.h5'\n",
    "output_csv_file = 'similarity_preprocess8_cleaned.csv'\n",
    "drop_columns_with_nan_and_save_to_csv(input_file, output_csv_file)\n",
    "\n",
    "print(f\"Processed data saved to {output_csv_file}.\")\n"
   ]
  }
 ],
 "metadata": {
  "kernelspec": {
   "display_name": "Python 3 (ipykernel)",
   "language": "python",
   "name": "python3"
  },
  "language_info": {
   "codemirror_mode": {
    "name": "ipython",
    "version": 3
   },
   "file_extension": ".py",
   "mimetype": "text/x-python",
   "name": "python",
   "nbconvert_exporter": "python",
   "pygments_lexer": "ipython3",
   "version": "3.10.9"
  }
 },
 "nbformat": 4,
 "nbformat_minor": 5
}
