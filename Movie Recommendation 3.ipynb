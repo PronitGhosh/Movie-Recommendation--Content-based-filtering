{
 "cells": [
  {
   "cell_type": "code",
   "execution_count": 1,
   "id": "73c41aad-8efb-4180-86d7-61b2badc9251",
   "metadata": {},
   "outputs": [
    {
     "name": "stderr",
     "output_type": "stream",
     "text": [
      "[nltk_data] Error loading stopwords: <urlopen error [Errno 11001]\n",
      "[nltk_data]     getaddrinfo failed>\n"
     ]
    }
   ],
   "source": [
    "import pandas as pd\n",
    "import numpy as np\n",
    "import nltk\n",
    "import re\n",
    "nltk.download('stopwords')\n",
    "from nltk.corpus import stopwords"
   ]
  },
  {
   "cell_type": "code",
   "execution_count": 2,
   "id": "cb7e9d98-06eb-429b-92a0-f75318c7c5df",
   "metadata": {},
   "outputs": [],
   "source": [
    "\n",
    "df=pd.read_csv(\"similarity_preprocess8_cleaned.csv\")"
   ]
  },
  {
   "cell_type": "code",
   "execution_count": 3,
   "id": "8cb62170-9184-4cbe-9ab8-160b983c6e17",
   "metadata": {},
   "outputs": [
    {
     "data": {
      "text/html": [
       "<div>\n",
       "<style scoped>\n",
       "    .dataframe tbody tr th:only-of-type {\n",
       "        vertical-align: middle;\n",
       "    }\n",
       "\n",
       "    .dataframe tbody tr th {\n",
       "        vertical-align: top;\n",
       "    }\n",
       "\n",
       "    .dataframe thead th {\n",
       "        text-align: right;\n",
       "    }\n",
       "</style>\n",
       "<table border=\"1\" class=\"dataframe\">\n",
       "  <thead>\n",
       "    <tr style=\"text-align: right;\">\n",
       "      <th></th>\n",
       "      <th>0</th>\n",
       "      <th>1</th>\n",
       "      <th>2</th>\n",
       "      <th>3</th>\n",
       "      <th>4</th>\n",
       "      <th>5</th>\n",
       "      <th>6</th>\n",
       "      <th>7</th>\n",
       "      <th>8</th>\n",
       "      <th>9</th>\n",
       "      <th>...</th>\n",
       "      <th>11</th>\n",
       "      <th>12</th>\n",
       "      <th>13</th>\n",
       "      <th>14</th>\n",
       "      <th>15</th>\n",
       "      <th>16</th>\n",
       "      <th>17</th>\n",
       "      <th>18</th>\n",
       "      <th>19</th>\n",
       "      <th>20</th>\n",
       "    </tr>\n",
       "  </thead>\n",
       "  <tbody>\n",
       "    <tr>\n",
       "      <th>0</th>\n",
       "      <td>0.0</td>\n",
       "      <td>59.0</td>\n",
       "      <td>161.0</td>\n",
       "      <td>546.0</td>\n",
       "      <td>1689.0</td>\n",
       "      <td>1748.0</td>\n",
       "      <td>2195.0</td>\n",
       "      <td>2324.0</td>\n",
       "      <td>4346.0</td>\n",
       "      <td>5022.0</td>\n",
       "      <td>...</td>\n",
       "      <td>9046.0</td>\n",
       "      <td>9216.0</td>\n",
       "      <td>9638.0</td>\n",
       "      <td>9739.0</td>\n",
       "      <td>9997.0</td>\n",
       "      <td>11942.0</td>\n",
       "      <td>12607.0</td>\n",
       "      <td>46656.0</td>\n",
       "      <td>48604.0</td>\n",
       "      <td>54975.0</td>\n",
       "    </tr>\n",
       "    <tr>\n",
       "      <th>1</th>\n",
       "      <td>1.0</td>\n",
       "      <td>9.0</td>\n",
       "      <td>55.0</td>\n",
       "      <td>65.0</td>\n",
       "      <td>837.0</td>\n",
       "      <td>2462.0</td>\n",
       "      <td>3735.0</td>\n",
       "      <td>3757.0</td>\n",
       "      <td>3831.0</td>\n",
       "      <td>6945.0</td>\n",
       "      <td>...</td>\n",
       "      <td>8365.0</td>\n",
       "      <td>26606.0</td>\n",
       "      <td>28797.0</td>\n",
       "      <td>48963.0</td>\n",
       "      <td>51780.0</td>\n",
       "      <td>64261.0</td>\n",
       "      <td>65492.0</td>\n",
       "      <td>78091.0</td>\n",
       "      <td>78974.0</td>\n",
       "      <td>79396.0</td>\n",
       "    </tr>\n",
       "    <tr>\n",
       "      <th>2</th>\n",
       "      <td>2.0</td>\n",
       "      <td>823.0</td>\n",
       "      <td>1784.0</td>\n",
       "      <td>3924.0</td>\n",
       "      <td>4475.0</td>\n",
       "      <td>5200.0</td>\n",
       "      <td>5886.0</td>\n",
       "      <td>6033.0</td>\n",
       "      <td>6205.0</td>\n",
       "      <td>6441.0</td>\n",
       "      <td>...</td>\n",
       "      <td>7015.0</td>\n",
       "      <td>7755.0</td>\n",
       "      <td>8030.0</td>\n",
       "      <td>8168.0</td>\n",
       "      <td>8853.0</td>\n",
       "      <td>9229.0</td>\n",
       "      <td>9442.0</td>\n",
       "      <td>9496.0</td>\n",
       "      <td>10207.0</td>\n",
       "      <td>12484.0</td>\n",
       "    </tr>\n",
       "    <tr>\n",
       "      <th>3</th>\n",
       "      <td>3.0</td>\n",
       "      <td>288.0</td>\n",
       "      <td>695.0</td>\n",
       "      <td>1136.0</td>\n",
       "      <td>1529.0</td>\n",
       "      <td>1558.0</td>\n",
       "      <td>1878.0</td>\n",
       "      <td>2046.0</td>\n",
       "      <td>2245.0</td>\n",
       "      <td>4162.0</td>\n",
       "      <td>...</td>\n",
       "      <td>4412.0</td>\n",
       "      <td>4734.0</td>\n",
       "      <td>4840.0</td>\n",
       "      <td>4992.0</td>\n",
       "      <td>6826.0</td>\n",
       "      <td>7548.0</td>\n",
       "      <td>10217.0</td>\n",
       "      <td>12393.0</td>\n",
       "      <td>14869.0</td>\n",
       "      <td>82516.0</td>\n",
       "    </tr>\n",
       "    <tr>\n",
       "      <th>4</th>\n",
       "      <td>4.0</td>\n",
       "      <td>75.0</td>\n",
       "      <td>228.0</td>\n",
       "      <td>931.0</td>\n",
       "      <td>1784.0</td>\n",
       "      <td>3653.0</td>\n",
       "      <td>3924.0</td>\n",
       "      <td>4475.0</td>\n",
       "      <td>5200.0</td>\n",
       "      <td>5886.0</td>\n",
       "      <td>...</td>\n",
       "      <td>6205.0</td>\n",
       "      <td>6441.0</td>\n",
       "      <td>6700.0</td>\n",
       "      <td>7015.0</td>\n",
       "      <td>7755.0</td>\n",
       "      <td>8030.0</td>\n",
       "      <td>8168.0</td>\n",
       "      <td>8853.0</td>\n",
       "      <td>10207.0</td>\n",
       "      <td>12484.0</td>\n",
       "    </tr>\n",
       "  </tbody>\n",
       "</table>\n",
       "<p>5 rows × 21 columns</p>\n",
       "</div>"
      ],
      "text/plain": [
       "     0      1       2       3       4       5       6       7       8       9  \\\n",
       "0  0.0   59.0   161.0   546.0  1689.0  1748.0  2195.0  2324.0  4346.0  5022.0   \n",
       "1  1.0    9.0    55.0    65.0   837.0  2462.0  3735.0  3757.0  3831.0  6945.0   \n",
       "2  2.0  823.0  1784.0  3924.0  4475.0  5200.0  5886.0  6033.0  6205.0  6441.0   \n",
       "3  3.0  288.0   695.0  1136.0  1529.0  1558.0  1878.0  2046.0  2245.0  4162.0   \n",
       "4  4.0   75.0   228.0   931.0  1784.0  3653.0  3924.0  4475.0  5200.0  5886.0   \n",
       "\n",
       "   ...      11       12       13       14       15       16       17       18  \\\n",
       "0  ...  9046.0   9216.0   9638.0   9739.0   9997.0  11942.0  12607.0  46656.0   \n",
       "1  ...  8365.0  26606.0  28797.0  48963.0  51780.0  64261.0  65492.0  78091.0   \n",
       "2  ...  7015.0   7755.0   8030.0   8168.0   8853.0   9229.0   9442.0   9496.0   \n",
       "3  ...  4412.0   4734.0   4840.0   4992.0   6826.0   7548.0  10217.0  12393.0   \n",
       "4  ...  6205.0   6441.0   6700.0   7015.0   7755.0   8030.0   8168.0   8853.0   \n",
       "\n",
       "        19       20  \n",
       "0  48604.0  54975.0  \n",
       "1  78974.0  79396.0  \n",
       "2  10207.0  12484.0  \n",
       "3  14869.0  82516.0  \n",
       "4  10207.0  12484.0  \n",
       "\n",
       "[5 rows x 21 columns]"
      ]
     },
     "execution_count": 3,
     "metadata": {},
     "output_type": "execute_result"
    }
   ],
   "source": [
    "df.head()"
   ]
  },
  {
   "cell_type": "code",
   "execution_count": 4,
   "id": "9a71f9af-cfff-41b8-ac97-6799137edbcd",
   "metadata": {},
   "outputs": [
    {
     "data": {
      "text/plain": [
       "(82556, 21)"
      ]
     },
     "execution_count": 4,
     "metadata": {},
     "output_type": "execute_result"
    }
   ],
   "source": [
    "\n",
    "df.shape"
   ]
  },
  {
   "cell_type": "code",
   "execution_count": 5,
   "id": "2f4190c2-7506-4e08-a02b-6c750f8275e9",
   "metadata": {},
   "outputs": [],
   "source": [
    "df1=pd.read_csv(\"movie-name_data.csv\")"
   ]
  },
  {
   "cell_type": "code",
   "execution_count": 6,
   "id": "249d3a55-b06a-4785-adb4-c134c13c32cd",
   "metadata": {},
   "outputs": [],
   "source": [
    "df2=pd.read_csv(\"movie-poster_latest.csv\")"
   ]
  },
  {
   "cell_type": "code",
   "execution_count": 7,
   "id": "73b8ccb5-1d66-4a7c-829c-63179384a9ec",
   "metadata": {},
   "outputs": [],
   "source": [
    "stop_words = set(stopwords.words('english'))\n",
    "\n",
    "# Function to clean movie names\n",
    "def clean_movie_name(name):\n",
    "    # Remove special characters and convert to lowercase\n",
    "    name = re.sub(r'[^a-zA-Z0-9\\s]', '', name).lower()\n",
    "    # Split the name into words and remove stop words\n",
    "    name = ' '.join(word for word in name.split() if word not in stop_words)\n",
    "    # Remove spaces to make it a continuous string\n",
    "    return name.replace(\" \", \"\")\n",
    "\n",
    "# Apply the cleaning function to the movie_name column\n",
    "df1['movie_name'] = df1['movie_name'].apply(clean_movie_name)"
   ]
  },
  {
   "cell_type": "code",
   "execution_count": 8,
   "id": "296da8af-998d-4776-95d6-ba3d21effc46",
   "metadata": {},
   "outputs": [],
   "source": [
    "#Amazing Spider Man\n",
    "#Avatar\n",
    "#Exorcist\n",
    "#Sapphire\n",
    "#Full Metal Jacket\n",
    "#Hidden Jacket"
   ]
  },
  {
   "cell_type": "code",
   "execution_count": 9,
   "id": "217d0d77-14bd-4e40-b157-83e9d2f26539",
   "metadata": {},
   "outputs": [
    {
     "name": "stdout",
     "output_type": "stream",
     "text": [
      "The movie name entered : sapphire\n",
      "Top 20 recommended Movies : \n",
      "Jalsa\n",
      "The Silence of the Marsh\n",
      "Morbo\n",
      "Solo\n",
      "Ism\n",
      "KL Gangster 2\n",
      "Quarantine Tales\n",
      "Under Crystal Lake\n",
      "Everything Now\n",
      "Khiana mashroaa\n",
      "Whistle\n",
      "Newtonin Moondram Vidhi\n",
      "Teen Kanya\n",
      "Framed\n",
      "Alborada carmesí\n",
      "The Devil's 6 Commandments\n",
      "Massafat Mile Bihidayi\n",
      "Senza movente\n",
      "Devang\n",
      "Memsahab\n",
      "Kart Mimori\n"
     ]
    }
   ],
   "source": [
    "movie_name=\"Sapphire\"\n",
    "movie_name=clean_movie_name(movie_name)\n",
    "print(\"The movie name entered :\",movie_name)\n",
    "row_index=df1.index[df1['movie_name']==movie_name][0]\n",
    "list1= df.iloc[row_index].tolist()\n",
    "print(\"Top 20 recommended Movies : \")\n",
    "for i in list1 :\n",
    "    if i!=row_index:\n",
    "      print(df2.loc[i,'movie_name'])\n",
    "      "
   ]
  },
  {
   "cell_type": "code",
   "execution_count": null,
   "id": "15ca3f8c-712c-4240-a437-8b210f55b6ef",
   "metadata": {},
   "outputs": [],
   "source": []
  }
 ],
 "metadata": {
  "kernelspec": {
   "display_name": "Python 3 (ipykernel)",
   "language": "python",
   "name": "python3"
  },
  "language_info": {
   "codemirror_mode": {
    "name": "ipython",
    "version": 3
   },
   "file_extension": ".py",
   "mimetype": "text/x-python",
   "name": "python",
   "nbconvert_exporter": "python",
   "pygments_lexer": "ipython3",
   "version": "3.10.9"
  }
 },
 "nbformat": 4,
 "nbformat_minor": 5
}
